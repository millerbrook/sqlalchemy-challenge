{
 "cells": [
  {
   "cell_type": "markdown",
   "metadata": {},
   "source": [
    "# Bonus: Temperature Analysis I"
   ]
  },
  {
   "cell_type": "code",
   "execution_count": 13,
   "metadata": {},
   "outputs": [],
   "source": [
    "import pandas as pd\n",
    "from datetime import datetime as dt"
   ]
  },
  {
   "cell_type": "code",
   "execution_count": 14,
   "metadata": {},
   "outputs": [
    {
     "output_type": "execute_result",
     "data": {
      "text/plain": [
       "       station        date  prcp  tobs\n",
       "0  USC00519397  2010-01-01  0.08    65\n",
       "1  USC00519397  2010-01-02  0.00    63\n",
       "2  USC00519397  2010-01-03  0.00    74\n",
       "3  USC00519397  2010-01-04  0.00    76\n",
       "4  USC00519397  2010-01-06   NaN    73"
      ],
      "text/html": "<div>\n<style scoped>\n    .dataframe tbody tr th:only-of-type {\n        vertical-align: middle;\n    }\n\n    .dataframe tbody tr th {\n        vertical-align: top;\n    }\n\n    .dataframe thead th {\n        text-align: right;\n    }\n</style>\n<table border=\"1\" class=\"dataframe\">\n  <thead>\n    <tr style=\"text-align: right;\">\n      <th></th>\n      <th>station</th>\n      <th>date</th>\n      <th>prcp</th>\n      <th>tobs</th>\n    </tr>\n  </thead>\n  <tbody>\n    <tr>\n      <th>0</th>\n      <td>USC00519397</td>\n      <td>2010-01-01</td>\n      <td>0.08</td>\n      <td>65</td>\n    </tr>\n    <tr>\n      <th>1</th>\n      <td>USC00519397</td>\n      <td>2010-01-02</td>\n      <td>0.00</td>\n      <td>63</td>\n    </tr>\n    <tr>\n      <th>2</th>\n      <td>USC00519397</td>\n      <td>2010-01-03</td>\n      <td>0.00</td>\n      <td>74</td>\n    </tr>\n    <tr>\n      <th>3</th>\n      <td>USC00519397</td>\n      <td>2010-01-04</td>\n      <td>0.00</td>\n      <td>76</td>\n    </tr>\n    <tr>\n      <th>4</th>\n      <td>USC00519397</td>\n      <td>2010-01-06</td>\n      <td>NaN</td>\n      <td>73</td>\n    </tr>\n  </tbody>\n</table>\n</div>"
     },
     "metadata": {},
     "execution_count": 14
    }
   ],
   "source": [
    "# \"tobs\" is \"temperature observations\"\n",
    "df = pd.read_csv('hawaii_measurements.csv')\n",
    "df.head()"
   ]
  },
  {
   "cell_type": "code",
   "execution_count": 15,
   "metadata": {},
   "outputs": [
    {
     "output_type": "stream",
     "name": "stdout",
     "text": [
      "<class 'pandas.core.frame.DataFrame'>\nRangeIndex: 19550 entries, 0 to 19549\nData columns (total 4 columns):\n #   Column   Non-Null Count  Dtype         \n---  ------   --------------  -----         \n 0   station  19550 non-null  object        \n 1   date     19550 non-null  datetime64[ns]\n 2   prcp     18103 non-null  float64       \n 3   tobs     19550 non-null  int64         \ndtypes: datetime64[ns](1), float64(1), int64(1), object(1)\nmemory usage: 611.1+ KB\n"
     ]
    }
   ],
   "source": [
    "# Convert the date column format from string to datetime\n",
    "df['date']= pd.to_datetime(df['date'])\n",
    "# Check the format of 'Date' column\n",
    "df.info()"
   ]
  },
  {
   "cell_type": "code",
   "execution_count": 17,
   "metadata": {},
   "outputs": [
    {
     "output_type": "execute_result",
     "data": {
      "text/plain": [
       "                station  prcp  tobs\n",
       "date                               \n",
       "2010-01-01  USC00519397  0.08    65\n",
       "2010-01-02  USC00519397  0.00    63\n",
       "2010-01-03  USC00519397  0.00    74\n",
       "2010-01-04  USC00519397  0.00    76\n",
       "2010-01-06  USC00519397   NaN    73"
      ],
      "text/html": "<div>\n<style scoped>\n    .dataframe tbody tr th:only-of-type {\n        vertical-align: middle;\n    }\n\n    .dataframe tbody tr th {\n        vertical-align: top;\n    }\n\n    .dataframe thead th {\n        text-align: right;\n    }\n</style>\n<table border=\"1\" class=\"dataframe\">\n  <thead>\n    <tr style=\"text-align: right;\">\n      <th></th>\n      <th>station</th>\n      <th>prcp</th>\n      <th>tobs</th>\n    </tr>\n    <tr>\n      <th>date</th>\n      <th></th>\n      <th></th>\n      <th></th>\n    </tr>\n  </thead>\n  <tbody>\n    <tr>\n      <th>2010-01-01</th>\n      <td>USC00519397</td>\n      <td>0.08</td>\n      <td>65</td>\n    </tr>\n    <tr>\n      <th>2010-01-02</th>\n      <td>USC00519397</td>\n      <td>0.00</td>\n      <td>63</td>\n    </tr>\n    <tr>\n      <th>2010-01-03</th>\n      <td>USC00519397</td>\n      <td>0.00</td>\n      <td>74</td>\n    </tr>\n    <tr>\n      <th>2010-01-04</th>\n      <td>USC00519397</td>\n      <td>0.00</td>\n      <td>76</td>\n    </tr>\n    <tr>\n      <th>2010-01-06</th>\n      <td>USC00519397</td>\n      <td>NaN</td>\n      <td>73</td>\n    </tr>\n  </tbody>\n</table>\n</div>"
     },
     "metadata": {},
     "execution_count": 17
    }
   ],
   "source": [
    "# Set the date column as the DataFrame index\n",
    "df.set_index('date').head() #note didn't set 'inplace=True'"
   ]
  },
  {
   "cell_type": "code",
   "execution_count": 19,
   "metadata": {},
   "outputs": [
    {
     "output_type": "execute_result",
     "data": {
      "text/plain": [
       "       station  prcp  tobs\n",
       "0  USC00519397  0.08    65\n",
       "1  USC00519397  0.00    63\n",
       "2  USC00519397  0.00    74\n",
       "3  USC00519397  0.00    76\n",
       "4  USC00519397   NaN    73"
      ],
      "text/html": "<div>\n<style scoped>\n    .dataframe tbody tr th:only-of-type {\n        vertical-align: middle;\n    }\n\n    .dataframe tbody tr th {\n        vertical-align: top;\n    }\n\n    .dataframe thead th {\n        text-align: right;\n    }\n</style>\n<table border=\"1\" class=\"dataframe\">\n  <thead>\n    <tr style=\"text-align: right;\">\n      <th></th>\n      <th>station</th>\n      <th>prcp</th>\n      <th>tobs</th>\n    </tr>\n  </thead>\n  <tbody>\n    <tr>\n      <th>0</th>\n      <td>USC00519397</td>\n      <td>0.08</td>\n      <td>65</td>\n    </tr>\n    <tr>\n      <th>1</th>\n      <td>USC00519397</td>\n      <td>0.00</td>\n      <td>63</td>\n    </tr>\n    <tr>\n      <th>2</th>\n      <td>USC00519397</td>\n      <td>0.00</td>\n      <td>74</td>\n    </tr>\n    <tr>\n      <th>3</th>\n      <td>USC00519397</td>\n      <td>0.00</td>\n      <td>76</td>\n    </tr>\n    <tr>\n      <th>4</th>\n      <td>USC00519397</td>\n      <td>NaN</td>\n      <td>73</td>\n    </tr>\n  </tbody>\n</table>\n</div>"
     },
     "metadata": {},
     "execution_count": 19
    }
   ],
   "source": [
    "# Drop the date column\n",
    "df.drop(columns=['date'], axis=1).head() #again, didn't set inplace=True"
   ]
  },
  {
   "cell_type": "markdown",
   "metadata": {},
   "source": [
    "### Compare June and December data across all years "
   ]
  },
  {
   "cell_type": "code",
   "execution_count": 20,
   "metadata": {},
   "outputs": [],
   "source": [
    "from scipy import stats"
   ]
  },
  {
   "cell_type": "code",
   "execution_count": 21,
   "metadata": {},
   "outputs": [],
   "source": [
    "# Filter data for desired months\n",
    "june_df = df[df.date.dt.month==6]\n",
    "dec_df = df[df.date.dt.month==12]"
   ]
  },
  {
   "cell_type": "code",
   "execution_count": 26,
   "metadata": {},
   "outputs": [
    {
     "output_type": "execute_result",
     "data": {
      "text/plain": [
       "74.94411764705882"
      ]
     },
     "metadata": {},
     "execution_count": 26
    }
   ],
   "source": [
    "# Identify the average temperature for June\n",
    "june_avg = june_df.tobs.mean()\n",
    "june_avg"
   ]
  },
  {
   "cell_type": "code",
   "execution_count": 28,
   "metadata": {},
   "outputs": [
    {
     "output_type": "execute_result",
     "data": {
      "text/plain": [
       "71.04152933421226"
      ]
     },
     "metadata": {},
     "execution_count": 28
    }
   ],
   "source": [
    "# Identify the average temperature for December\n",
    "dec_avg = dec_df.tobs.mean()\n",
    "dec_avg"
   ]
  },
  {
   "cell_type": "code",
   "execution_count": 29,
   "metadata": {},
   "outputs": [],
   "source": [
    "# Create collections of temperature data\n",
    "dec_temps = dec_df.tobs.to_list()\n",
    "june_temps = june_df.tobs.to_list()"
   ]
  },
  {
   "cell_type": "code",
   "execution_count": 31,
   "metadata": {},
   "outputs": [
    {
     "output_type": "execute_result",
     "data": {
      "text/plain": [
       "ShapiroResult(statistic=0.9843476414680481, pvalue=9.044617485520767e-12)"
      ]
     },
     "metadata": {},
     "execution_count": 31
    }
   ],
   "source": [
    "#Check for normal distribution of December temperatures\n",
    "stats.shapiro(dec_temps)"
   ]
  },
  {
   "cell_type": "code",
   "execution_count": 32,
   "metadata": {},
   "outputs": [
    {
     "output_type": "execute_result",
     "data": {
      "text/plain": [
       "ShapiroResult(statistic=0.983282744884491, pvalue=3.5219510684594835e-13)"
      ]
     },
     "metadata": {},
     "execution_count": 32
    }
   ],
   "source": [
    "#check for normal distribution of June temperatures\n",
    "stats.shapiro(june_temps)"
   ]
  },
  {
   "cell_type": "code",
   "execution_count": 34,
   "metadata": {},
   "outputs": [
    {
     "output_type": "execute_result",
     "data": {
      "text/plain": [
       "Ttest_indResult(statistic=31.60372399000329, pvalue=3.9025129038616655e-191)"
      ]
     },
     "metadata": {},
     "execution_count": 34
    }
   ],
   "source": [
    "# Run unpaired t-test\n",
    "\n",
    "stats.ttest_ind(june_temps,dec_temps)"
   ]
  },
  {
   "cell_type": "markdown",
   "metadata": {},
   "source": [
    "### Analysis"
   ]
  },
  {
   "source": [
    "I ran an unpaired t-test because the data (June temperatures and December temperatures) are independent of one another. A paired t-test would require same sized samples, and the samples here don't have to be the same size.\n",
    "\n",
    "The pvalue is tiny, indicating that differences between the samples are not due to chance. So, there is a statistically significant difference between June and December temperatures at the Hawaiian locations in our dataset."
   ],
   "cell_type": "markdown",
   "metadata": {}
  }
 ],
 "metadata": {
  "kernelspec": {
   "display_name": "Python 3",
   "language": "python",
   "name": "python3"
  },
  "language_info": {
   "codemirror_mode": {
    "name": "ipython",
    "version": 3
   },
   "file_extension": ".py",
   "mimetype": "text/x-python",
   "name": "python",
   "nbconvert_exporter": "python",
   "pygments_lexer": "ipython3",
   "version": "3.8.5-final"
  }
 },
 "nbformat": 4,
 "nbformat_minor": 4
}